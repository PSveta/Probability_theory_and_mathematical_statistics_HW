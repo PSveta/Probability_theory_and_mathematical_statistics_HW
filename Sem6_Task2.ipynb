{
 "cells": [
  {
   "attachments": {},
   "cell_type": "markdown",
   "metadata": {},
   "source": [
    "**В результате 10 независимых измерений некоторой величины X, выполненных с одинаковой точностью, получены опытные данные: 6.9, 6.1, 6.2, 6.8, 7.5, 6.3, 6.4, 6.9, 6.7, 6.1 Предполагая, что результаты измерений подчинены нормальному закону распределения вероятностей, оценить истинное значение величины X при помощи доверительного интервала, покрывающего это значение с доверительной вероятностью 0,95.**"
   ]
  },
  {
   "attachments": {},
   "cell_type": "markdown",
   "metadata": {},
   "source": [
    "Поскольку из условия задачи нам ничего не известно ни о мат. ожидании генеральной совокупности ни о среднем квадратическом отклонении для генеральной совокупности, то для расчета $95\\%$-го доверительного интервала будем использовать $t$-критерий,  и формулу:  \n",
    "$\\displaystyle\\bar X\\pm t_{\\alpha/2}\\cdot\\frac{\\sigma_{несмещ}}{\\sqrt{n}}$, где  \n",
    "$\\sigma_{несмещ}$-несмещённое среднее квадратическое отклонение выборки,  \n",
    "$n$-размер выборки  \n"
   ]
  },
  {
   "attachments": {},
   "cell_type": "markdown",
   "metadata": {},
   "source": [
    "Воспользуемся встроенными функциями библиотеки numpy:"
   ]
  },
  {
   "cell_type": "code",
   "execution_count": 1,
   "metadata": {},
   "outputs": [],
   "source": [
    "import numpy as np"
   ]
  },
  {
   "cell_type": "code",
   "execution_count": 2,
   "metadata": {},
   "outputs": [
    {
     "name": "stdout",
     "output_type": "stream",
     "text": [
      "Среднее выборочное:  6.59,\n",
      "Размер выборки n=10,\n",
      "Среднее квадратическое отклонение по выборке(несмещенное):  0.45.\n"
     ]
    }
   ],
   "source": [
    "arr=np.array([6.9, 6.1, 6.2, 6.8, 7.5, 6.3, 6.4, 6.9, 6.7, 6.1])\n",
    "print(f'Среднее выборочное: {np.mean(arr): .2f},\\n'\n",
    "      f'Размер выборки n={len(arr)},\\n'\n",
    "      f'Среднее квадратическое отклонение по выборке(несмещенное): {np.std(arr, ddof=1): .2f}.'\n",
    "     )"
   ]
  },
  {
   "attachments": {},
   "cell_type": "markdown",
   "metadata": {},
   "source": [
    "Для вычисления $t$-критерия воспользуемся библиотекой scipy"
   ]
  },
  {
   "cell_type": "code",
   "execution_count": 3,
   "metadata": {},
   "outputs": [],
   "source": [
    "import scipy.stats as stats"
   ]
  },
  {
   "cell_type": "code",
   "execution_count": 4,
   "metadata": {},
   "outputs": [
    {
     "name": "stdout",
     "output_type": "stream",
     "text": [
      "Табличное значение t-критерия для 95%-го доверительного интервала данной выборки:  2.262\n"
     ]
    }
   ],
   "source": [
    "def t_from_table(confidens, len_array):\n",
    "    alpha=(1-confidens)\n",
    "    return stats.t.ppf(1-alpha/2, len_array-1)\n",
    "print(f'Табличное значение t-критерия для 95%-го доверительного интервала данной выборки: {t_from_table(0.95, len(arr)): .3f}')"
   ]
  },
  {
   "attachments": {},
   "cell_type": "markdown",
   "metadata": {},
   "source": [
    "Итоговая функция для расчета доверительного интервала:"
   ]
  },
  {
   "cell_type": "code",
   "execution_count": 5,
   "metadata": {},
   "outputs": [
    {
     "name": "stdout",
     "output_type": "stream",
     "text": [
      "95%-й доверительный интервал для истинного значения Х: (6.268, 6.912).\n"
     ]
    }
   ],
   "source": [
    "def confidens_int(arr, confidens):\n",
    "    return round(np.mean(arr)-t_from_table(confidens,len(arr))*np.std(arr, ddof=1)/len(arr)**0.5,3), \\\n",
    "           round(np.mean(arr)+t_from_table(confidens,len(arr))*np.std(arr, ddof=1)/len(arr)**0.5,3)\n",
    "\n",
    "print(f'95%-й доверительный интервал для истинного значения Х: {confidens_int(arr, 0.95)}.')"
   ]
  },
  {
   "attachments": {},
   "cell_type": "markdown",
   "metadata": {},
   "source": [
    "---  \n",
    "Ответ:  \n",
    "95%-й доверительный интервал для истинного значения Х равен $\\left[6.268;6.912\\right]$  \n",
    "\n",
    "---"
   ]
  }
 ],
 "metadata": {
  "kernelspec": {
   "display_name": "Python 3.11.2 64-bit",
   "language": "python",
   "name": "python3"
  },
  "language_info": {
   "codemirror_mode": {
    "name": "ipython",
    "version": 3
   },
   "file_extension": ".py",
   "mimetype": "text/x-python",
   "name": "python",
   "nbconvert_exporter": "python",
   "pygments_lexer": "ipython3",
   "version": "3.11.2"
  },
  "orig_nbformat": 4,
  "vscode": {
   "interpreter": {
    "hash": "c6bda570d439cef0b73331d70d74997e8c54be07738a0bdb7ee077605f256bd9"
   }
  }
 },
 "nbformat": 4,
 "nbformat_minor": 2
}
