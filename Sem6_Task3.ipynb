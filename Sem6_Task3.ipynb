{
 "cells": [
  {
   "attachments": {},
   "cell_type": "markdown",
   "metadata": {},
   "source": [
    "**Рост дочерей 175, 167, 154, 174, 178, 148, 160, 167, 169, 170.  \n",
    "Рост матерей  178, 165, 165, 173, 168, 155, 160, 164, 178, 175.   \n",
    "Используя эти данные построить 95% доверительный интервал для разности среднего роста родителей и детей.**  "
   ]
  },
  {
   "cell_type": "code",
   "execution_count": 1,
   "metadata": {},
   "outputs": [],
   "source": [
    "import math\n",
    "import numpy as np\n",
    "from numpy import linalg as LA\n",
    "from scipy import stats \n",
    "import statistics"
   ]
  },
  {
   "attachments": {},
   "cell_type": "markdown",
   "metadata": {},
   "source": [
    "Расчитываем интервальную оценку для разности средних арифметических по формуле: \n",
    " \n",
    "$\\bar{x}_1 - \\bar{x}_2 \\pm t{\\frac{\\alpha}{2}} \\sqrt{\\frac{D}{n_1} + \\frac{D}{n_2}}$\n",
    "\n",
    "где:  \n",
    "$\\bar{x}_1$ - среднее арифметическое в группе 1  \n",
    "$\\bar{x}_2$ - среднее арифметическое в группе 2  \n",
    "$D$ - средняя дисперсия обеих групп  \n",
    "$n_1$ - число элементов в группе 1  \n",
    "$n_2$ - число элементов в группе 2  "
   ]
  },
  {
   "attachments": {},
   "cell_type": "markdown",
   "metadata": {},
   "source": [
    "При этом средняя дисперсия обеих групп расчитывается по формуле:  \n",
    "$D=\\frac{1}{2}(D_1+D_2)$  \n",
    "\n",
    "где:  \n",
    "$D_1$ - дисперсия группы 1  \n",
    "$D_2$ - дисперсия группы 2"
   ]
  },
  {
   "attachments": {},
   "cell_type": "markdown",
   "metadata": {},
   "source": [
    "Вводим данные"
   ]
  },
  {
   "cell_type": "code",
   "execution_count": 2,
   "metadata": {},
   "outputs": [],
   "source": [
    "mothers = np.array([178, 165, 165, 173, 168, 155, 160, 164, 178, 175])\n",
    "daughters = np.array([175, 167, 154, 174, 178, 148, 160, 167, 169, 170])"
   ]
  },
  {
   "attachments": {},
   "cell_type": "markdown",
   "metadata": {},
   "source": [
    "Расчитываем разность средних арифметических $\\bar{x}_1 - \\bar{x}_2$:"
   ]
  },
  {
   "cell_type": "code",
   "execution_count": 3,
   "metadata": {},
   "outputs": [
    {
     "name": "stdout",
     "output_type": "stream",
     "text": [
      "Среднее арифметическое роста матерей -  168.10 см.\n",
      "Среднее арифметическое роста дочерей -  166.20 см.\n",
      "Разность средних арифметических составляет -  1.90 см.\n"
     ]
    }
   ],
   "source": [
    "difference_of_means = np.mean(mothers) - np.mean(daughters)\n",
    "print(f'Среднее арифметическое роста матерей - {np.mean(mothers): .2f} см.')\n",
    "print(f'Среднее арифметическое роста дочерей - {np.mean(daughters): .2f} см.')\n",
    "print(f'Разность средних арифметических составляет - {difference_of_means: .2f} см.')"
   ]
  },
  {
   "attachments": {},
   "cell_type": "markdown",
   "metadata": {},
   "source": [
    "Находим несмещенные дисперсии для каждой выборки и среднюю дисперсию обеих групп:"
   ]
  },
  {
   "cell_type": "code",
   "execution_count": 4,
   "metadata": {},
   "outputs": [
    {
     "name": "stdout",
     "output_type": "stream",
     "text": [
      "Дисперсия выборки роста матерей -  60.1000\n",
      "Дисперсия выборки роста дочерей -  91.0667\n",
      "Средняя дисперсия обеих групп -  75.5833\n"
     ]
    }
   ],
   "source": [
    "D1=np.var(mothers, ddof=1)\n",
    "D2=np.var(daughters, ddof=1)\n",
    "print(f'Дисперсия выборки роста матерей - {D1: .4f}')\n",
    "print(f'Дисперсия выборки роста дочерей - {D2: .4f}')\n",
    "D=0.5*(D1+D2)\n",
    "print(f'Средняя дисперсия обеих групп - {D: .4f}')"
   ]
  },
  {
   "attachments": {},
   "cell_type": "markdown",
   "metadata": {},
   "source": [
    "Расчитываем $\\sqrt{\\frac{D}{n_1} + \\frac{D}{n_2}}$:"
   ]
  },
  {
   "cell_type": "code",
   "execution_count": 5,
   "metadata": {},
   "outputs": [
    {
     "name": "stdout",
     "output_type": "stream",
     "text": [
      "Стандартная ошибка -  3.8880\n"
     ]
    }
   ],
   "source": [
    "standard_error = np.sqrt(D/len(mothers) + D/len(daughters))\n",
    "print(f'Стандартная ошибка - {standard_error: .4f}')"
   ]
  },
  {
   "attachments": {},
   "cell_type": "markdown",
   "metadata": {},
   "source": [
    "Расчитываем коэффициент Стьюдента: "
   ]
  },
  {
   "cell_type": "code",
   "execution_count": 6,
   "metadata": {},
   "outputs": [
    {
     "name": "stdout",
     "output_type": "stream",
     "text": [
      "Степени свободы для расчета коэффициента Стьдента - 18\n",
      "Коэффициент Стьюдента -  2.1009\n"
     ]
    }
   ],
   "source": [
    "d_f=(len(mothers)-1) + (len(daughters) - 1)\n",
    "print(f'Степени свободы для расчета коэффициента Стьдента -{d_f: .0f}')\n",
    "t_critical = stats.t.ppf(0.975, d_f)\n",
    "print(f'Коэффициент Стьюдента - {t_critical: .4f}')"
   ]
  },
  {
   "attachments": {},
   "cell_type": "markdown",
   "metadata": {},
   "source": [
    "Расчитываем левую и правую границы интервала и получаем ответ:"
   ]
  },
  {
   "cell_type": "code",
   "execution_count": 7,
   "metadata": {},
   "outputs": [
    {
     "name": "stdout",
     "output_type": "stream",
     "text": [
      "Левая граница интервала  - -6.27\n",
      "Правая граница интервала -  10.07\n",
      ">>> 95% доверительный интервал для разности среднего роста родителей и детей: [-6.27, 10.07]\n"
     ]
    }
   ],
   "source": [
    "l_border = difference_of_means - t_critical * standard_error\n",
    "r_border = difference_of_means + t_critical * standard_error\n",
    "print(f'Левая граница интервала  - {l_border: .2f}')\n",
    "print(f'Правая граница интервала - {r_border: .2f}')\n",
    "print(f'>>> 95% доверительный интервал для разности среднего роста родителей и детей: [{l_border:.2f}, {r_border:.2f}]')"
   ]
  },
  {
   "attachments": {},
   "cell_type": "markdown",
   "metadata": {},
   "source": [
    "---  \n",
    "Ответ:  \n",
    "95% доверительный интервал для разности среднего роста родителей и детей: [-6.27, 10.07]\n",
    "\n",
    "---"
   ]
  }
 ],
 "metadata": {
  "kernelspec": {
   "display_name": "Python 3.11.2 64-bit",
   "language": "python",
   "name": "python3"
  },
  "language_info": {
   "codemirror_mode": {
    "name": "ipython",
    "version": 3
   },
   "file_extension": ".py",
   "mimetype": "text/x-python",
   "name": "python",
   "nbconvert_exporter": "python",
   "pygments_lexer": "ipython3",
   "version": "3.11.2"
  },
  "orig_nbformat": 4,
  "vscode": {
   "interpreter": {
    "hash": "c6bda570d439cef0b73331d70d74997e8c54be07738a0bdb7ee077605f256bd9"
   }
  }
 },
 "nbformat": 4,
 "nbformat_minor": 2
}
