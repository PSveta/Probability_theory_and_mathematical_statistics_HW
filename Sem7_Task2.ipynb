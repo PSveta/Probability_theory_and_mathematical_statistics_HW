{
 "cells": [
  {
   "cell_type": "markdown",
   "metadata": {},
   "source": [
    "#### Задача 2\n",
    "Исследовалось влияние препарата на уровень давления пациентов. Сначала измерялось давление до приема препарата, потом через 10 минут и через 30 минут.  \n",
    "Есть ли статистически значимые различия?  \n",
    "\n",
    "$1е$ измерение до приема препарата:  \n",
    "$X1 = 150, 160, 165, 145, 155$  \n",
    "\n",
    "$2е$ измерение через 10 минут:  \n",
    "$X2 = 140, 155, 150, 130, 135$  \n",
    "\n",
    "$3е$ измерение через 30 минут:  \n",
    "$X3 = 130, 130, 120, 130, 125$  "
   ]
  },
  {
   "cell_type": "code",
   "execution_count": 3,
   "metadata": {},
   "outputs": [],
   "source": [
    "import numpy as np\n",
    "import scipy.stats as stats\n",
    "import matplotlib.pyplot as plt"
   ]
  },
  {
   "cell_type": "code",
   "execution_count": 4,
   "metadata": {},
   "outputs": [
    {
     "name": "stdout",
     "output_type": "stream",
     "text": [
      "\n",
      ">>> Statistics = 9.58 \n",
      ">>> Р-value = 0.008\n",
      ">>> Cтатистически значимые различия присутствуют, нулевую гипотезу отвергаем, препарат влияет на давление.\n"
     ]
    }
   ],
   "source": [
    "alpha=0.05\n",
    "x1=np.array([150, 160, 165, 145, 155])\n",
    "x2=np.array([140, 155, 150, 130, 135])\n",
    "x3=np.array([130, 130, 120, 130, 125])\n",
    "d = stats.friedmanchisquare(x1, x2, x3)\n",
    "print('\\n>>> Statistics = %.2f \\n>>> Р-value = %.3f' % (d))\n",
    "s, p = stats.friedmanchisquare(x1, x2, x3)\n",
    "if p > alpha:\n",
    "    print('>>> Cтатистически значимых различий нет, нулевая гипотеза не отвергается, препарат не влияет на давление.')\n",
    "else:\n",
    "    print('>>> Cтатистически значимые различия присутствуют, нулевую гипотезу отвергаем, препарат влияет на давление.')"
   ]
  }
 ],
 "metadata": {
  "kernelspec": {
   "display_name": "Python 3 (ipykernel)",
   "language": "python",
   "name": "python3"
  },
  "language_info": {
   "codemirror_mode": {
    "name": "ipython",
    "version": 3
   },
   "file_extension": ".py",
   "mimetype": "text/x-python",
   "name": "python",
   "nbconvert_exporter": "python",
   "pygments_lexer": "ipython3",
   "version": "3.10.9"
  },
  "vscode": {
   "interpreter": {
    "hash": "b8ab3c5a0bf651b11e8082edede9a7857529171f6f26db982e916c9d3ebde9a7"
   }
  }
 },
 "nbformat": 4,
 "nbformat_minor": 2
}
