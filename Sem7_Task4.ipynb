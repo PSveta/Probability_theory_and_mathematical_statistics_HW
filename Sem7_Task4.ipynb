{
 "cells": [
  {
   "cell_type": "markdown",
   "metadata": {},
   "source": [
    "#### Задача 4\n",
    "Даны 3 группы учеников плавания.  \n",
    "\n",
    "В 1 группе время на дистанцию 50 м составляют:  \n",
    "$X1 = 56, 60, 62, 55, 71, 67, 59, 58, 64, 67$  \n",
    "Вторая группа:  \n",
    "$X2 = 57, 58, 69, 48, 72, 70, 68, 71, 50, 53$  \n",
    "Третья группа:  \n",
    "$X3 = 57, 67, 49, 48, 47, 55, 66, 51, 54$  \n",
    " \n",
    "Есть ли различия между группами?"
   ]
  },
  {
   "cell_type": "code",
   "execution_count": 7,
   "metadata": {},
   "outputs": [],
   "source": [
    "import numpy as np\n",
    "import scipy.stats as stats\n",
    "import matplotlib.pyplot as plt"
   ]
  },
  {
   "cell_type": "code",
   "execution_count": 8,
   "metadata": {},
   "outputs": [
    {
     "name": "stdout",
     "output_type": "stream",
     "text": [
      "\n",
      ">>> Statistics = 5.47 \n",
      ">>> Р-value = 0.065\n",
      ">>> Cтатистически значимых различий нет, нулевая гипотеза не отвергается, время на дистанцию одинаковое.\n"
     ]
    }
   ],
   "source": [
    "alpha=0.05\n",
    "x1=np.array([56, 60, 62, 55, 71, 67, 59, 58, 64, 67])\n",
    "x2=np.array([57, 58, 69, 48, 72, 70, 68, 71, 50, 53])\n",
    "x3=np.array([57, 67, 49, 48, 47, 55, 66, 51, 54])\n",
    "d = stats.kruskal(x1,x2,x3)\n",
    "print('\\n>>> Statistics = %.2f \\n>>> Р-value = %.3f' % (d))\n",
    "s, p = stats.kruskal(x1,x2,x3)\n",
    "if p > alpha:\n",
    "    print('>>> Cтатистически значимых различий нет, нулевая гипотеза не отвергается, время на дистанцию одинаковое.')\n",
    "else:\n",
    "    print('>>> Cтатистически значимые различия присутствуют, нулевую гипотезу отвергаем, время на дистанцию не одинаковое.')"
   ]
  }
 ],
 "metadata": {
  "kernelspec": {
   "display_name": "Python 3 (ipykernel)",
   "language": "python",
   "name": "python3"
  },
  "language_info": {
   "codemirror_mode": {
    "name": "ipython",
    "version": 3
   },
   "file_extension": ".py",
   "mimetype": "text/x-python",
   "name": "python",
   "nbconvert_exporter": "python",
   "pygments_lexer": "ipython3",
   "version": "3.10.9"
  },
  "vscode": {
   "interpreter": {
    "hash": "b8ab3c5a0bf651b11e8082edede9a7857529171f6f26db982e916c9d3ebde9a7"
   }
  }
 },
 "nbformat": 4,
 "nbformat_minor": 2
}
