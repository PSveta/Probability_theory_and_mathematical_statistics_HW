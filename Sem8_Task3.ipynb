{
 "cells": [
  {
   "cell_type": "markdown",
   "metadata": {},
   "source": [
    "**Задача 3**\n",
    "\n",
    "**Известно, что рост футболистов в сборной распределен нормально с дисперсией генеральной совокупности, $\\sigma^2=25\\text{ кв.см.}$ Объем выборки $n=27$, среднее выборочное $M=174.2$. Найдите доверительный интервал для математического ожидания с $\\alpha=0,95$**"
   ]
  },
  {
   "cell_type": "markdown",
   "metadata": {},
   "source": [
    "Поскольку нам известнa дисперсия генеральной совокупности $\\sigma^2=25$, то для расчета $95\\%$-го доверительного интервала, будем использовать $Z$-критерий. И границы доверительного интервала расчитаем по формуле:  \n",
    "$\\displaystyle\\bar X\\pm z_{\\alpha/2}\\cdot\\frac{\\sqrt{\\sigma^2}}{\\sqrt n}$ , где:  \n",
    "$\\bar X=M=174.2$-среднее значение выборки    \n",
    "$z_{\\alpha/2}$ табличное значение $Z$-критерия, и для $95\\%$-го доверительного интервала $z_{\\alpha/2}=1,96$  \n",
    "$\\sigma^2=25$-дисперсия генеральной совокупности  \n",
    "$n=27$-объем выборки  "
   ]
  },
  {
   "cell_type": "code",
   "execution_count": 1,
   "metadata": {},
   "outputs": [
    {
     "name": "stdout",
     "output_type": "stream",
     "text": [
      "95%-й доверительный интервал для оценки мат. ожидания генеральной совокупности: [ 172.3140; 176.0860].\n"
     ]
    }
   ],
   "source": [
    "left=174.2-(1.96*25**0.5)/27**0.5\n",
    "right=174.2+(1.96*25**0.5)/27**0.5\n",
    "print(f'95%-й доверительный интервал для оценки мат. ожидания генеральной совокупности: [{left: .4f};{right: .4f}].')"
   ]
  },
  {
   "cell_type": "markdown",
   "metadata": {},
   "source": [
    "Ответ.  \n",
    "95%-й доверительный интервал для оценки мат. ожидания генеральной совокупности - [ 172.3140; 176.0860]"
   ]
  }
 ],
 "metadata": {
  "kernelspec": {
   "display_name": "Python 3 (ipykernel)",
   "language": "python",
   "name": "python3"
  },
  "language_info": {
   "codemirror_mode": {
    "name": "ipython",
    "version": 3
   },
   "file_extension": ".py",
   "mimetype": "text/x-python",
   "name": "python",
   "nbconvert_exporter": "python",
   "pygments_lexer": "ipython3",
   "version": "3.10.9"
  },
  "vscode": {
   "interpreter": {
    "hash": "c6bda570d439cef0b73331d70d74997e8c54be07738a0bdb7ee077605f256bd9"
   }
  }
 },
 "nbformat": 4,
 "nbformat_minor": 2
}
