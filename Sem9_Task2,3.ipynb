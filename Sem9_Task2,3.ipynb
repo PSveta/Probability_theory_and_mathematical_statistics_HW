{
 "cells": [
  {
   "cell_type": "markdown",
   "metadata": {},
   "source": [
    "**Задача 2**\n",
    "\n",
    "**Даны значения величины заработной платы заемщиков банка (zp) и значения их поведенческого кредитного скоринга  \n",
    "(ks): zp = [35, 45, 190, 200, 40, 70, 54, 150, 120, 110],  \n",
    "ks = [401, 574, 874, 919, 459, 739, 653, 902, 746, 832].  \n",
    "Посчитать коэффициент линейной регрессии при заработной плате (zp), используя градиентный спуск (без intercept).**"
   ]
  },
  {
   "cell_type": "code",
   "execution_count": 1,
   "metadata": {},
   "outputs": [],
   "source": [
    "import numpy as np\n",
    "import pandas as pd\n",
    "import matplotlib.pyplot as plt\n",
    "\n",
    "%matplotlib inline"
   ]
  },
  {
   "cell_type": "code",
   "execution_count": 2,
   "metadata": {},
   "outputs": [],
   "source": [
    "zp = np.array([35, 45, 190, 200, 40, 70, 54, 150, 120, 110])\n",
    "ks = np.array([401, 574, 874, 919, 459, 739, 653, 902, 746, 832])"
   ]
  },
  {
   "cell_type": "markdown",
   "metadata": {},
   "source": [
    "Посмотрим на графике, есть ли зависимость между данными?"
   ]
  },
  {
   "cell_type": "code",
   "execution_count": 3,
   "metadata": {},
   "outputs": [
    {
     "data": {
      "image/png": "[encoded data removed]",
      "text/plain": [
       "<Figure size 640x480 with 1 Axes>"
      ]
     },
     "metadata": {},
     "output_type": "display_data"
    }
   ],
   "source": [
    "plt.scatter(zp,ks)\n",
    "plt.xlabel('Величина заработной платы')\n",
    "plt.ylabel('Поведенческий кредитный скоринг', rotation=90)\n",
    "plt.show()"
   ]
  },
  {
   "cell_type": "markdown",
   "metadata": {},
   "source": [
    "По графику можно предположить о наличии некоей линейной взаимосвязи между зависимой и независимой переменными,   \n",
    "т.е. связь между ними можно описать некоторой линейной функцией, вида:    \n",
    "$\\displaystyle ks=a+b\\cdot zp$  \n",
    "Найдем коэффициент $b$ по формуле:  \n",
    "$\\displaystyle b=\\frac{\\bar{xy}-\\bar x\\cdot\\bar y}{\\bar{x^2}-{\\bar x}^2}$"
   ]
  },
  {
   "cell_type": "code",
   "execution_count": 4,
   "metadata": {},
   "outputs": [
    {
     "data": {
      "text/plain": [
       "2.620538882402765"
      ]
     },
     "execution_count": 4,
     "metadata": {},
     "output_type": "execute_result"
    }
   ],
   "source": [
    "b=(np.mean(zp * ks) - np.mean(zp) * np.mean(ks)) / (np.mean(zp**2) - np.mean(zp) ** 2)\n",
    "b"
   ]
  },
  {
   "cell_type": "markdown",
   "metadata": {},
   "source": [
    "В качестве функции потерь выберем **среднеквадратичную** функцию:\n",
    "$\\displaystyle MSE=\\frac{1}{n}\\sum^{n}_{i=1}(\\hat y_i-y_i)^2$  которая будет показывать, насколько далеко истинные значения зависимого признака будут находиться от линии регресии(расчетных значений)    "
   ]
  },
  {
   "cell_type": "code",
   "execution_count": 5,
   "metadata": {},
   "outputs": [],
   "source": [
    "def _mse(b, x, y):\n",
    "    return np.sum((b*x-y)**2)/len(x)"
   ]
  },
  {
   "cell_type": "markdown",
   "metadata": {},
   "source": [
    "Посчитаем значение для вычесленного нами коэффициента $b=2.62$"
   ]
  },
  {
   "cell_type": "code",
   "execution_count": 6,
   "metadata": {},
   "outputs": [
    {
     "data": {
      "text/plain": [
       "203812.48504"
      ]
     },
     "execution_count": 6,
     "metadata": {},
     "output_type": "execute_result"
    }
   ],
   "source": [
    "_mse(2.62, zp, ks)"
   ]
  },
  {
   "cell_type": "markdown",
   "metadata": {},
   "source": [
    "Теперь попробуем подобрать такое значение коэффициента $b$, при котором $MSE\\rightarrow 0$, используя свойства производной.  \n",
    "Для этого вычислим производную нашей функции потерь:    "
   ]
  },
  {
   "cell_type": "code",
   "execution_count": 7,
   "metadata": {},
   "outputs": [],
   "source": [
    "def _mse_p(b,x,y):\n",
    "    return (2/len(x))*np.sum((b*x-y)*x)"
   ]
  },
  {
   "cell_type": "markdown",
   "metadata": {},
   "source": [
    "Так же введем параметр - **скорость обучения** c помощью которого будем регулировать скорость подбора коэффициента $b$"
   ]
  },
  {
   "cell_type": "code",
   "execution_count": 8,
   "metadata": {},
   "outputs": [],
   "source": [
    "alpha=1e-06"
   ]
  },
  {
   "cell_type": "code",
   "execution_count": 9,
   "metadata": {},
   "outputs": [
    {
     "name": "stdout",
     "output_type": "stream",
     "text": [
      "Итерация #0, b=0.25952808000000005, mse=493237.7212546963\n",
      "Итерация #100, b=5.54537842245223, mse=58151.31823171113\n",
      "Итерация #200, b=5.868748638669329, mse=56522.97550129376\n",
      "Итерация #300, b=5.888531320728348, mse=56516.88130936019\n",
      "Итерация #400, b=5.8897415574471985, mse=56516.85850140053\n",
      "Итерация #500, b=5.889815595583751, mse=56516.858416040064\n",
      "Итерация #600, b=5.889820124983314, mse=56516.85841572062\n",
      "Итерация #628, b=5.889820285147628, mse=56516.85841571966,\n",
      "Достигнут минимум.\n"
     ]
    }
   ],
   "source": [
    "b=0.1\n",
    "mse_min=_mse(b,zp,ks)\n",
    "i_min=1\n",
    "b_min=b\n",
    "for i in range(10000):\n",
    "    b-=alpha*_mse_p(b,zp,ks)\n",
    "    if i%100==0:\n",
    "        print(f'Итерация #{i}, b={b}, mse={_mse(b, zp,ks)}')\n",
    "    if _mse(b,zp,ks)>mse_min:\n",
    "        print(f'Итерация #{i_min}, b={b_min}, mse={mse_min},\\nДостигнут минимум.')\n",
    "        break\n",
    "    else:\n",
    "        mse_min=_mse(b,zp,ks)\n",
    "        i_min=i\n",
    "        b_min=b"
   ]
  },
  {
   "cell_type": "code",
   "execution_count": 10,
   "metadata": {},
   "outputs": [
    {
     "data": {
      "text/plain": [
       "5.889820285147628"
      ]
     },
     "execution_count": 10,
     "metadata": {},
     "output_type": "execute_result"
    }
   ],
   "source": [
    "b_min"
   ]
  },
  {
   "cell_type": "markdown",
   "metadata": {},
   "source": [
    "---"
   ]
  },
  {
   "cell_type": "markdown",
   "metadata": {},
   "source": [
    "**Задача 3**\n",
    "\n",
    "**Произвести вычисления как в пункте 2, но с вычислением intercept. Учесть, что изменение коэффициентов должно производиться на каждом шаге одновременно (то есть изменение одного коэффициента не должно влиять на изменение другого во время одной итерации).**"
   ]
  },
  {
   "cell_type": "markdown",
   "metadata": {},
   "source": [
    "Функция потерь:"
   ]
  },
  {
   "cell_type": "code",
   "execution_count": 11,
   "metadata": {},
   "outputs": [],
   "source": [
    "def _mse_ab(a,b, x, y):\n",
    "    return np.sum(((a+b*x)-y)**2)/len(x)"
   ]
  },
  {
   "cell_type": "markdown",
   "metadata": {},
   "source": [
    "Частная производная функции потерь по $a$:  "
   ]
  },
  {
   "cell_type": "code",
   "execution_count": 12,
   "metadata": {},
   "outputs": [],
   "source": [
    "def _mse_pa(a,b,x,y): \n",
    "    return 2*np.sum((a+b*x)-y)/len(x)"
   ]
  },
  {
   "cell_type": "markdown",
   "metadata": {},
   "source": [
    "Частная производная функции потерь по $b$:"
   ]
  },
  {
   "cell_type": "code",
   "execution_count": 13,
   "metadata": {},
   "outputs": [],
   "source": [
    "def _mse_pb(a,b,x,y):\n",
    "    return 2*np.sum(((a+b*x)-y)*x)/len(x)"
   ]
  },
  {
   "cell_type": "markdown",
   "metadata": {},
   "source": [
    "Скорость обучения:"
   ]
  },
  {
   "cell_type": "code",
   "execution_count": 14,
   "metadata": {},
   "outputs": [],
   "source": [
    "alpha=5e-05"
   ]
  },
  {
   "cell_type": "code",
   "execution_count": 15,
   "metadata": {},
   "outputs": [
    {
     "name": "stdout",
     "output_type": "stream",
     "text": [
      "Итерация #0, a=0.169966, b=8.07468054476, mse=122318.06397097567\n",
      "Итерация #50000, a=319.27767648420047, b=3.5398324356503275, mse=10427.569111705801\n",
      "Итерация #100000, a=409.0442373734796, b=2.879127619051743, mse=6783.521961452364\n",
      "Итерация #150000, a=434.29473705519484, b=2.693277491833349, mse=6495.188684804794\n",
      "Итерация #200000, a=441.3974680483413, b=2.6409995775222037, mse=6472.374468908443\n",
      "Итерация #250000, a=443.39540029510493, b=2.62629428586797, mse=6470.569306309746\n",
      "Итерация #300000, a=443.95740007610897, b=2.622157823932053, mse=6470.426473787141\n",
      "Итерация #350000, a=444.1154853937451, b=2.6209942756156086, mse=6470.415172240385\n",
      "Итерация #400000, a=444.159953325044, b=2.6206669802831115, mse=6470.414278011555\n",
      "Итерация #450000, a=444.1724617410292, b=2.6205749151465225, mse=6470.414207256183\n",
      "Итерация #500000, a=444.1759802422447, b=2.6205490180788695, mse=6470.414201657699\n",
      "Итерация #520164, a=444.17653163778414, b=2.62054495966686, mse=6470.414201349592,\n",
      "Достигнут минимум.\n",
      "a=444.17653163778414\n",
      "b=2.62054495966686\n"
     ]
    }
   ],
   "source": [
    "b=0.1\n",
    "a=0.1\n",
    "mseab_min=_mse_ab(a,b,zp,ks)\n",
    "i_min=1\n",
    "b_min=b\n",
    "a_min=a\n",
    "   \n",
    "for i in range(1000000):\n",
    "    a-=alpha*_mse_pa(a,b,zp,ks)\n",
    "    b-=alpha*_mse_pb(a,b,zp,ks)\n",
    "    if i%50000==0:\n",
    "        print(f'Итерация #{i}, a={a}, b={b}, mse={_mse_ab(a, b, zp,ks)}')\n",
    "    if _mse_ab(a, b,zp,ks)>mseab_min:\n",
    "        print(f'Итерация #{i_min}, a={a_min}, b={b_min}, mse={mseab_min},\\nДостигнут минимум.')\n",
    "        break\n",
    "    else:\n",
    "        mseab_min=_mse_ab(a, b,zp,ks)\n",
    "        i_min=i\n",
    "        b_min=b\n",
    "        a_min=a\n",
    "print(f'a={a_min}\\nb={b_min}')"
   ]
  },
  {
   "cell_type": "code",
   "execution_count": 16,
   "metadata": {},
   "outputs": [
    {
     "data": {
      "image/png": "[encoded data removed]",
      "text/plain": [
       "<Figure size 640x480 with 1 Axes>"
      ]
     },
     "metadata": {},
     "output_type": "display_data"
    }
   ],
   "source": [
    "plt.scatter(zp,ks)\n",
    "plt.plot(zp,a_min+b_min*zp, c='r', label=r'$ks=444.17653163778414+2.62054495966686\\cdot zp$')\n",
    "plt.legend()\n",
    "plt.xlabel('Величина заработной платы')\n",
    "plt.ylabel('Поведенческий кредитный скоринг', rotation=90)\n",
    "plt.show()"
   ]
  }
 ],
 "metadata": {
  "kernelspec": {
   "display_name": "Python 3 (ipykernel)",
   "language": "python",
   "name": "python3"
  },
  "language_info": {
   "codemirror_mode": {
    "name": "ipython",
    "version": 3
   },
   "file_extension": ".py",
   "mimetype": "text/x-python",
   "name": "python",
   "nbconvert_exporter": "python",
   "pygments_lexer": "ipython3",
   "version": "3.10.9"
  },
  "vscode": {
   "interpreter": {
    "hash": "c6bda570d439cef0b73331d70d74997e8c54be07738a0bdb7ee077605f256bd9"
   }
  }
 },
 "nbformat": 4,
 "nbformat_minor": 2
}
